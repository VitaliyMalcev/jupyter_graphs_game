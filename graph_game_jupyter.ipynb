{
  "nbformat": 4,
  "nbformat_minor": 0,
  "metadata": {
    "colab": {
      "provenance": []
    },
    "kernelspec": {
      "name": "python3",
      "display_name": "Python 3"
    },
    "language_info": {
      "name": "python"
    }
  },
  "cells": [
    {
      "cell_type": "code",
      "source": [
        "import networkx as nx\n",
        "import matplotlib.pyplot as plt\n",
        "import random\n",
        "from IPython.display import display, clear_output\n",
        "import threading\n",
        "import ipywidgets as widgets\n",
        "import time"
      ],
      "metadata": {
        "id": "ba0_pgzGBd3j"
      },
      "execution_count": 1,
      "outputs": []
    },
    {
      "cell_type": "markdown",
      "source": [
        "## Escape the Labyrinth\n",
        "\n",
        "**Description:**\n",
        "\n",
        "\"Escape the Labyrinth\" is an interactive text-based game that takes place in a mysterious and challenging maze. You find yourself trapped in a labyrinth with three key elements: yourself (YOU), a relentless monsters (M), and a potential escape route (EXIT). Your objective is simple: make your way through the maze to reach the exit while avoiding the monster at all costs. The game is played within the confines of a Jupyter Notebook, offering an engaging and visually appealing experience.\n",
        "\n",
        "**Gameplay:**\n",
        "\n",
        "Initialization: The game begins with the generation of a labyrinth consisting of interconnected nodes, which is displayed as a graph within the Jupyter Notebook. You are represented as 'YOU' (blue node), the monsters is represented as 'M' (red nodes), and the exit as 'EXIT' (green node).\n",
        "\n",
        "Monster Movement: The monsters goal is to capture you. It relentlessly pursues you throughout the labyrinth by a shortest path.\n",
        "\n",
        "Player Movement: Usualy you can move much faster then monsters and your win condition to kite them around and get to exit.\n",
        "\n",
        "Objectives: Your primary objective is to make it to the 'EXIT' node, which will signify your successful escape from the labyrinth. Alternatively, if the 'M' node and 'YOU' node coincide, the monster captures you, and the game ends.\n",
        "\n",
        "Visualization: The game features visualizations of the labyrinth graph with 'YOU,' 'M,' and 'EXIT' highlighted for easy tracking.\n",
        "\n",
        "**Challenges:**\n",
        "\n",
        "You need to strategize your moves to outmaneuver the monster while navigating the labyrinth.\n",
        "Finding the right path to the 'EXIT' can be tricky, as the maze is designed to be a challenge.\n",
        "Objective:\n",
        "\n",
        "Your objective in \"Escape the Labyrinth\" is to successfully navigate the maze and reach the 'EXIT' node while avoiding capture by the 'M.' Use your wits, quick thinking, and strategic moves to outsmart the monster and secure your escape. Good luck, and may your decision-making skills lead you to victory in this thrilling adventure!\n",
        "\n",
        "**HOW to PLAY:**\n",
        "\n",
        "just run play_the_game function in the end of notebook. You will see graph, and now you need only input numbers of nodes connected to your where you want to move in. Reach exit and dont be captured by monsters.\n",
        "\n",
        "Important notes: - the passages between the rooms of the maze are not always clearly visible. Each time you will need to indicate the node connected to you, if you indicate another one, you will simply lose your move. Also sometimes it may be impossible to run out of all monsters in this labirinth, just dont get sad and try again.\n",
        "\n",
        "To have more fun you can change some game parametrs in\n",
        "play_the_game function:\n",
        "recomended params:\n",
        "num_nodes = 30, num_monsters = 2, speed =4\n",
        "\n",
        "num_of_nodes - determs size of labirinth. Logical minimum is around 15, maximum is inf, but if you put a realy big numbers here will be problems with visualization in jupyter notebook.\n",
        "\n",
        "num_monsters = number of monsters generated against you.\n",
        "\n",
        "speed = you speed agains monsters. For example if speed = 3 you can make 3 steps before each monster make one.\n",
        "\n",
        "\n",
        "\n",
        "\n",
        "\n",
        "\n"
      ],
      "metadata": {
        "id": "flk_KBpyAWSK"
      }
    },
    {
      "cell_type": "code",
      "source": [
        "def visualize_graph(G, you_node, monsters_nodes, exit_node, pos):\n",
        "    clear_output(wait=True)\n",
        "\n",
        "    # Define node colors\n",
        "    node_colors = []\n",
        "    for node in G.nodes:\n",
        "        if node == you_node:\n",
        "            node_colors.append('blue')  # Color for \"YOU\"\n",
        "        elif node in monsters_nodes:\n",
        "            node_colors.append('red')  # Color for \"MONSTER\"\n",
        "        elif node == exit_node:\n",
        "            node_colors.append('green')  # Color for \"EXIT\"\n",
        "        else:\n",
        "            node_colors.append('gray')  # Color for other nodes\n",
        "\n",
        "    # Draw nodes with different colors\n",
        "    nx.draw_networkx_nodes(G, pos, node_size=500, node_color=node_colors)\n",
        "\n",
        "    # Draw edges\n",
        "    nx.draw_networkx_edges(G, pos)\n",
        "\n",
        "    # Label nodes\n",
        "    labels = {node: node for node in G.nodes()}\n",
        "    labels[you_node] ='YOU'\n",
        "    for monster in monsters_nodes:\n",
        "        labels[monster] ='M'\n",
        "    labels[exit_node] = str(labels[exit_node])+'EXIT'\n",
        "    nx.draw_networkx_labels(G, pos, labels)\n",
        "    # Show the graph\n",
        "    plt.axis(\"off\")\n",
        "    plt.show()\n"
      ],
      "metadata": {
        "id": "cqkLFe1pCBDB"
      },
      "execution_count": 2,
      "outputs": []
    },
    {
      "cell_type": "code",
      "source": [
        "def create_labyrinth_web(num_nodes, n_monsters):\n",
        "    while True:\n",
        "        # Create a random connected graph\n",
        "        G = nx.random_geometric_graph(num_nodes, radius=0.4)\n",
        "        if nx.is_connected(G):\n",
        "\n",
        "          monsters_nodes =[]\n",
        "          you_node = 0\n",
        "\n",
        "          # Find a random node at least 5 steps away for \"MONSTER\"\n",
        "          monster_distance = 5\n",
        "          possible_monster_nodes = [node for node in G.nodes if nx.shortest_path_length(G, source=you_node, target=node) >= monster_distance]\n",
        "          if len(possible_monster_nodes) >n_monsters+1:\n",
        "              for monster in range(n_monsters):\n",
        "                monster_node = random.choice(possible_monster_nodes)\n",
        "                possible_monster_nodes.remove(monster_node)\n",
        "                monsters_nodes.append(monster_node)\n",
        "\n",
        "              exit_node = random.choice(possible_monster_nodes)\n",
        "              pos = nx.spring_layout(G)\n",
        "              break\n",
        "          else:\n",
        "              continue\n",
        "\n",
        "\n",
        "    return G, you_node, monsters_nodes, exit_node, pos\n"
      ],
      "metadata": {
        "id": "xxtdmWl0YCnf"
      },
      "execution_count": 3,
      "outputs": []
    },
    {
      "cell_type": "code",
      "source": [
        "def monsters_move(G, you_node, monsters_nodes):\n",
        "    new_monster_nodes =[]\n",
        "    for monster_node in monsters_nodes:\n",
        "      # Get the neighbors of the monster node\n",
        "      monster_neighbors = list(G.neighbors(monster_node))\n",
        "\n",
        "      # Find the neighbor closest to \"YOU\"\n",
        "      closest_neighbor = None\n",
        "      min_distance = float('inf')\n",
        "\n",
        "      for neighbor in monster_neighbors:\n",
        "          distance_to_you = nx.shortest_path_length(G, source=neighbor, target=you_node)\n",
        "          if distance_to_you < min_distance:\n",
        "              closest_neighbor = neighbor\n",
        "              min_distance = distance_to_you\n",
        "\n",
        "      # Move the monster to the closest neighbor\n",
        "      G.nodes[monster_node]['type'] = 'empty'  # Clear the current monster node\n",
        "      G.nodes[closest_neighbor]['type'] = 'monster'  # Set the new monster node\n",
        "      monster_node = closest_neighbor\n",
        "\n",
        "      # Check if the monster has captured \"YOU\"\n",
        "      captured = (monster_node == you_node)\n",
        "      new_monster_nodes.append(monster_node)\n",
        "\n",
        "    return G,new_monster_nodes, captured\n",
        "\n",
        "\n"
      ],
      "metadata": {
        "id": "o8oWPPYeYfMr"
      },
      "execution_count": 4,
      "outputs": []
    },
    {
      "cell_type": "code",
      "source": [
        "def move_you(G, you_node, monsters_nodes, exit_node, pos,num_nodes_to_move):\n",
        "    if type(num_nodes_to_move) is not int:\n",
        "      return G, you_node, False, False\n",
        "\n",
        "    if G.has_edge(you_node, num_nodes_to_move):\n",
        "        # Move \"YOU\" to the selected node\n",
        "        G.nodes[you_node]['type'] = 'empty'  # Clear the current \"YOU\" node\n",
        "        G.nodes[num_nodes_to_move]['type'] = 'you'  # Set the new \"YOU\" node\n",
        "        you_node = num_nodes_to_move\n",
        "\n",
        "        # Check if \"YOU\" has been captured by the monster\n",
        "        captured = you_node in [monsters_nodes]\n",
        "\n",
        "        # Check if \"YOU\" has reached the exit\n",
        "        exited = you_node == exit_node\n",
        "\n",
        "        return G, you_node, captured, exited\n",
        "    else:\n",
        "        # The selected node is not connected to \"YOU\"\n",
        "        return G, you_node, False, False\n"
      ],
      "metadata": {
        "id": "C9f_mo1GatcJ"
      },
      "execution_count": 5,
      "outputs": []
    },
    {
      "cell_type": "code",
      "source": [
        "def play_the_game(num_nodes = 30, num_monsters = 2, speed =4):\n",
        "  exited = False\n",
        "  captured = False\n",
        "\n",
        "  labyrinth_graph, you_node, monsters_nodes, exit_node, pos = create_labyrinth_web(num_nodes,num_monsters )\n",
        "  visualize_graph(labyrinth_graph, you_node, monsters_nodes, exit_node, pos)\n",
        "  time.sleep(3)\n",
        "  while exited==False and captured ==False:\n",
        "    for i in range(speed):\n",
        "      if not (exited==False and captured ==False):\n",
        "        break\n",
        "      try:\n",
        "          user_response = int(input())\n",
        "      except:\n",
        "        print('Bad response. you just need to enter number of connected node to move in')\n",
        "        user_response = 'bad'\n",
        "      labyrinth_graph,you_node,captured, exited= move_you(labyrinth_graph, you_node, monsters_nodes, exit_node, pos,num_nodes_to_move=user_response)\n",
        "      visualize_graph(labyrinth_graph, you_node, monsters_nodes, exit_node, pos)\n",
        "    labyrinth_graph, monsters_nodes, captured = monsters_move(labyrinth_graph, you_node, monsters_nodes)\n",
        "    visualize_graph(labyrinth_graph, you_node, monsters_nodes, exit_node, pos)\n",
        "\n",
        "  if exited==True:\n",
        "    print('YOU WON! CONGATULATIONS!')\n",
        "  else:\n",
        "    print('YOU GET CAPTURED AND KILLED')\n",
        "\n"
      ],
      "metadata": {
        "id": "_A5mpGb7Y4Il"
      },
      "execution_count": 6,
      "outputs": []
    },
    {
      "cell_type": "code",
      "source": [
        "#try this params :\n",
        "#num_nodes = 15, num_monsters = 2, speed =4\n",
        "#num_nodes = 30, num_monsters = 3, speed =3\n",
        "#num_nodes = 30, num_monsters = 12, speed =4\n",
        "play_the_game(num_nodes = 20, num_monsters = 3, speed =4)"
      ],
      "metadata": {
        "colab": {
          "base_uri": "https://localhost:8080/",
          "height": 424
        },
        "id": "vEjLG-2lbjJO",
        "outputId": "dc73e519-a4d3-4540-f8ec-3ca6976d4f2c"
      },
      "execution_count": 7,
      "outputs": [
        {
          "output_type": "display_data",
          "data": {
            "text/plain": [
              "<Figure size 640x480 with 1 Axes>"
            ],
            "image/png": "[encoded data removed]"
          },
          "metadata": {}
        },
        {
          "output_type": "stream",
          "name": "stdout",
          "text": [
            "YOU GET CAPTURED AND KILLED\n"
          ]
        }
      ]
    }
  ]
}